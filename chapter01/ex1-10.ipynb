{
 "cells": [
  {
   "cell_type": "markdown",
   "metadata": {},
   "source": [
    "It has been projected that the average and standard deviation of the amount of time spent online\n",
    "using the Internet are, respectively, 14 and 17 hours per person per year (many do not use\n",
    "the Internet at all!)."
   ]
  },
  {
   "cell_type": "markdown",
   "metadata": {},
   "source": [
    "A) What value is exactly 1 standard deviation below the mean?"
   ]
  },
  {
   "cell_type": "code",
   "execution_count": 1,
   "metadata": {
    "collapsed": false
   },
   "outputs": [
    {
     "name": "stdout",
     "output_type": "stream",
     "text": [
      "-3\n"
     ]
    }
   ],
   "source": [
    "#In this case though, the standard deviation (17) is greater than the mean(14)? If I solve this like I do normal problems, this would leave me with a negative value for time spent on the Internet. \n",
    "print 14 - 17"
   ]
  },
  {
   "cell_type": "markdown",
   "metadata": {},
   "source": [
    "B) If the amount of time spent online using the Internet is approximately normally distributed,\n",
    "what proportion of the users spend an amount of time online that is less than the value you\n",
    "found in part (a)?"
   ]
  },
  {
   "cell_type": "code",
   "execution_count": 2,
   "metadata": {
    "collapsed": false
   },
   "outputs": [
    {
     "name": "stdout",
     "output_type": "stream",
     "text": [
      "0.16\n"
     ]
    }
   ],
   "source": [
    "from __future__ import division\n",
    "interval = .68 / 2\n",
    "print .5 - interval "
   ]
  },
  {
   "cell_type": "markdown",
   "metadata": {},
   "source": [
    "C) Is the amount of time spent online using the Internet approximately normally distributed?\n",
    "Why?"
   ]
  },
  {
   "cell_type": "markdown",
   "metadata": {},
   "source": [
    "No. Because we obtain negative vaules which make no sense for time."
   ]
  }
 ],
 "metadata": {
  "kernelspec": {
   "display_name": "Python 2",
   "language": "python",
   "name": "python2"
  },
  "language_info": {
   "codemirror_mode": {
    "name": "ipython",
    "version": 2
   },
   "file_extension": ".py",
   "mimetype": "text/x-python",
   "name": "python",
   "nbconvert_exporter": "python",
   "pygments_lexer": "ipython2",
   "version": "2.7.10"
  }
 },
 "nbformat": 4,
 "nbformat_minor": 0
}
