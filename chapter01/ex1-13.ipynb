{
 "cells": [
  {
   "cell_type": "code",
   "execution_count": 10,
   "metadata": {
    "collapsed": true
   },
   "outputs": [],
   "source": [
    "from __future__ import division\n",
    "import numpy as np\n",
    "from matplotlib import pyplot as plt\n",
    "import math\n",
    "%matplotlib inline"
   ]
  },
  {
   "cell_type": "code",
   "execution_count": 29,
   "metadata": {
    "collapsed": true
   },
   "outputs": [],
   "source": [
    "dataset = [8.9, 12.4, 8.6, 11.3, 9.2, 8.8, 6.2, 7.0, 35.1,\n",
    "           7.1, 11.8, 10.7, 7.6, 9.1, 9.2, 8.2, 9.0, 8.7,\n",
    "           9.1, 10.9, 10.3, 9.6, 7.8, 11.5, 9.3, 7.9, 8.8,\n",
    "           8.8, 12.7, 8.4, 7.8, 5.7, 10.5, 10.5, 9.6, 8.9,\n",
    "           10.2, 10.3, 7.7, 10.6, 8.3, 8.8, 9.5, 8.8, 9.4]"
   ]
  },
  {
   "cell_type": "markdown",
   "metadata": {},
   "source": [
    "A) Calculate y and s for the data given"
   ]
  },
  {
   "cell_type": "code",
   "execution_count": 30,
   "metadata": {
    "collapsed": false
   },
   "outputs": [
    {
     "name": "stdout",
     "output_type": "stream",
     "text": [
      "9.79111111111 4.16020750529\n"
     ]
    }
   ],
   "source": [
    "# Calculate the total using a reduce and lambda https://docs.python.org/2/library/functions.html#reduce\n",
    "total_sum = reduce(lambda x, y: x+y, dataset)\n",
    "y_bar = total_sum / len(dataset)\n",
    "\n",
    "sum_squared_list_points = reduce(lambda x, y: x + math.pow(y - y_bar ,2), dataset)\n",
    "n_1 = 1 / (len(dataset) - 1)\n",
    "variance = n_1 * sum_squared_list_points\n",
    "std = math.sqrt(variance)\n",
    "print y_bar , std"
   ]
  },
  {
   "cell_type": "markdown",
   "metadata": {},
   "source": [
    "B) Calculate the interval y ± ks for k = 1, 2, and 3. Count the number of measurements that\n",
    "fall within each interval and compare this result with the number that you would expect\n",
    "according to the empirical rule."
   ]
  },
  {
   "cell_type": "code",
   "execution_count": 31,
   "metadata": {
    "collapsed": false
   },
   "outputs": [
    {
     "name": "stdout",
     "output_type": "stream",
     "text": [
      "0.977777777778\n",
      "0.977777777778\n",
      "0.977777777778\n"
     ]
    }
   ],
   "source": [
    "def count_of_values_contained_in_interval(low,high,dataset):\n",
    "    count = 0\n",
    "    for x in dataset:\n",
    "        if x > low and x < high:\n",
    "            count = count + 1\n",
    "    return count\n",
    "\n",
    "#When k=1 \n",
    "k_minus_1 = y_bar - std*1\n",
    "k_plus_1  = y_bar + std*1\n",
    "\n",
    "in_interval_1 = count_of_values_contained_in_interval(k_minus_1,k_plus_1,dataset)\n",
    "print in_interval_1 / len(dataset)\n",
    "\n",
    "#When k=2\n",
    "k_minus_2 = y_bar - std*2\n",
    "k_plus_2  = y_bar + std*2\n",
    "\n",
    "in_interval_2 = count_of_values_contained_in_interval(k_minus_2,k_plus_2,dataset)\n",
    "print in_interval_2 / len(dataset)\n",
    "\n",
    "#When k=3\n",
    "k_minus_3 = y_bar - std*3\n",
    "k_plus_3  = y_bar + std*3\n",
    "\n",
    "in_interval_3 = count_of_values_contained_in_interval(k_minus_3,k_plus_3,dataset)\n",
    "print in_interval_3 / len(dataset)"
   ]
  },
  {
   "cell_type": "markdown",
   "metadata": {},
   "source": [
    "The values above are tightly contained with the exception of the 35.1 vaule. That is why it is not a perfect .99~1.0 for the last interval"
   ]
  },
  {
   "cell_type": "code",
   "execution_count": null,
   "metadata": {
    "collapsed": true
   },
   "outputs": [],
   "source": []
  }
 ],
 "metadata": {
  "kernelspec": {
   "display_name": "Python 2",
   "language": "python",
   "name": "python2"
  },
  "language_info": {
   "codemirror_mode": {
    "name": "ipython",
    "version": 2
   },
   "file_extension": ".py",
   "mimetype": "text/x-python",
   "name": "python",
   "nbconvert_exporter": "python",
   "pygments_lexer": "ipython2",
   "version": "2.7.10"
  }
 },
 "nbformat": 4,
 "nbformat_minor": 0
}
