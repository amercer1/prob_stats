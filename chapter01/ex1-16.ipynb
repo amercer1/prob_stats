{
 "cells": [
  {
   "cell_type": "code",
   "execution_count": 12,
   "metadata": {
    "collapsed": true
   },
   "outputs": [],
   "source": [
    "from __future__ import division\n",
    "import math\n",
    "from matplotlib import pyplot as plt\n",
    "import numpy as np\n",
    "%matplotlib inline"
   ]
  },
  {
   "cell_type": "markdown",
   "metadata": {},
   "source": [
    "In Exercise 1.4, there is one extremely large value (11.88). Eliminate this value and calculate\n",
    "y and s for the remaining 39 observations."
   ]
  },
  {
   "cell_type": "code",
   "execution_count": 13,
   "metadata": {
    "collapsed": false
   },
   "outputs": [],
   "source": [
    "dataset = [11.88, 6.27, 5.49, 4.81, 4.40, 3.78, 3.44, 3.11, 2.88, 2.68, \n",
    "7.99, 6.07, 5.26, 4.79, 4.05, 3.69, 3.36, 3.03, 2.74, 2.63, \n",
    "7.15, 5.98, 5.07, 4.55, 3.94, 3.62, 3.26, 2.99, 2.74, 2.62,\n",
    "7.13, 5.91, 4.94, 4.43, 3.93, 3.48, 3.20, 2.89, 2.69, 2.61]\n",
    "\n",
    "dataset.remove(11.88)"
   ]
  },
  {
   "cell_type": "code",
   "execution_count": 21,
   "metadata": {
    "collapsed": false
   },
   "outputs": [
    {
     "name": "stdout",
     "output_type": "stream",
     "text": [
      "4.19487179487 1.45963421239\n"
     ]
    }
   ],
   "source": [
    "total_sum = reduce(lambda x,y: x+y, dataset)\n",
    "y_bar = total_sum / len(dataset)\n",
    "\n",
    "sum_squared_difference = reduce(lambda x,y: x + math.pow(y_bar - y,2), dataset)\n",
    "n_1 = 1 / (len(dataset) - 1)\n",
    "variance = n_1 * sum_squared_difference\n",
    "std = math.sqrt(variance)\n",
    "print y_bar, std"
   ]
  },
  {
   "cell_type": "markdown",
   "metadata": {},
   "source": [
    "B) alculate the intervals y ± ks for k = 1,\n",
    "2, and 3; count the number of measurements in each"
   ]
  },
  {
   "cell_type": "code",
   "execution_count": 30,
   "metadata": {
    "collapsed": false
   },
   "outputs": [
    {
     "name": "stdout",
     "output_type": "stream",
     "text": [
      "0.692307692308\n",
      "0.923076923077\n",
      "1.0\n"
     ]
    }
   ],
   "source": [
    "def count_of_values_contained_in_interval(low,high,dataset):\n",
    "    count = 0\n",
    "    for x in dataset:\n",
    "        if x > low and x < high:\n",
    "            count = count + 1\n",
    "    return count\n",
    "\n",
    "#When k=1 \n",
    "k_minus_1 = y_bar - std*1\n",
    "k_plus_1  = y_bar + std*1\n",
    "\n",
    "in_interval_1 = count_of_values_contained_in_interval(k_minus_1,k_plus_1,dataset)\n",
    "print in_interval_1 / len(dataset)\n",
    "\n",
    "#When k=2\n",
    "k_minus_2 = y_bar - std*2\n",
    "k_plus_2  = y_bar + std*2\n",
    "\n",
    "in_interval_2 = count_of_values_contained_in_interval(k_minus_2,k_plus_2,dataset)\n",
    "print in_interval_2 / len(dataset)\n",
    "\n",
    "#When k=3\n",
    "k_minus_3 = y_bar - std*3\n",
    "k_plus_3  = y_bar + std*3\n",
    "\n",
    "in_interval_3 = count_of_values_contained_in_interval(k_minus_3,k_plus_3,dataset)\n",
    "print in_interval_3 / len(dataset)"
   ]
  },
  {
   "cell_type": "code",
   "execution_count": null,
   "metadata": {
    "collapsed": true
   },
   "outputs": [],
   "source": []
  }
 ],
 "metadata": {
  "kernelspec": {
   "display_name": "Python 2",
   "language": "python",
   "name": "python2"
  },
  "language_info": {
   "codemirror_mode": {
    "name": "ipython",
    "version": 2
   },
   "file_extension": ".py",
   "mimetype": "text/x-python",
   "name": "python",
   "nbconvert_exporter": "python",
   "pygments_lexer": "ipython2",
   "version": "2.7.10"
  }
 },
 "nbformat": 4,
 "nbformat_minor": 0
}
