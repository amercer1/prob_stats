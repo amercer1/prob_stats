{
 "cells": [
  {
   "cell_type": "code",
   "execution_count": 1,
   "metadata": {
    "collapsed": true
   },
   "outputs": [],
   "source": [
    "from __future__ import division\n",
    "import math\n",
    "from matplotlib import pyplot as plt\n",
    "import numpy as np\n",
    "%matplotlib inline"
   ]
  },
  {
   "cell_type": "markdown",
   "metadata": {},
   "source": [
    "The range of a set of measurements is the difference between the largest and the smallest values.\n",
    "The empirical rule suggests that the standard deviation of a set of measurements may be roughly\n",
    "approximated by one-fourth of the range (that is, range/4). Calculate this approximation to s\n",
    "for the data sets in Exercises 1.2, 1.3, and 1.4. Compare the result in each case to the actual,\n",
    "calculated value of s."
   ]
  },
  {
   "cell_type": "code",
   "execution_count": 3,
   "metadata": {
    "collapsed": false
   },
   "outputs": [
    {
     "name": "stdout",
     "output_type": "stream",
     "text": [
      "Dataset | STD | Empirical STD\n",
      "1 | 1.578335 | 1.750000 \n",
      "2 | 3.130906 | 3.040000 \n",
      "3 | 1.538531 | 2.317500 \n"
     ]
    }
   ],
   "source": [
    "dataset_1 =[8.9, 12.4, 8.6, 11.3, 9.2, 8.8, 6.2, 7.0,\n",
    "           7.1, 11.8, 10.7, 7.6, 9.1, 9.2, 8.2, 9.0, 8.7,\n",
    "           9.1, 10.9, 10.3, 9.6, 7.8, 11.5, 9.3, 7.9, 8.8,\n",
    "           8.8, 12.7, 8.4, 7.8, 5.7, 10.5, 10.5, 9.6, 8.9,\n",
    "           10.2, 10.3, 7.7, 10.6, 8.3, 8.8, 9.5, 8.8, 9.4]\n",
    "\n",
    "dataset_2 = [.74, 6.47, 1.90, 2.69, .75,\n",
    "             .32, 9.99, 1.77, 2.41, 1.96,\n",
    "             1.66, .70, 2.42, .54, 3.36,\n",
    "             3.59, .37, 1.09, 8.32, 4.06,\n",
    "             4.55, .76, 2.03, 5.70, 12.48]\n",
    "\n",
    "dataset_3 = [11.88, 6.27, 5.49, 4.81, 4.40, 3.78, 3.44, 3.11, 2.88, 2.68, \n",
    "7.99, 6.07, 5.26, 4.79, 4.05, 3.69, 3.36, 3.03, 2.74, 2.63, \n",
    "7.15, 5.98, 5.07, 4.55, 3.94, 3.62, 3.26, 2.99, 2.74, 2.62,\n",
    "7.13, 5.91, 4.94, 4.43, 3.93, 3.48, 3.20, 2.89, 2.69, 2.61]\n",
    "\n",
    "\n",
    "def compute_avg_std(dataset):\n",
    "    total_sum = reduce(lambda x,y: x+y, dataset)\n",
    "    y_bar = total_sum / len(dataset)\n",
    "\n",
    "    sum_squared_difference = reduce(lambda x,y: x + math.pow(y_bar - y,2), dataset)\n",
    "    n_1 = 1 / (len(dataset) - 1)\n",
    "    variance = n_1 * sum_squared_difference\n",
    "    std = math.sqrt(variance)\n",
    "    return (y_bar, std)\n",
    "\n",
    "def compute_range(dataset):\n",
    "    return max(dataset) - min(dataset)\n",
    "\n",
    "def compute_empirical_std(dataset):\n",
    "    return compute_range(dataset) / 4\n",
    "\n",
    "print \"Dataset | STD | Empirical STD\"\n",
    "print \"1 | %f | %f \" % (compute_avg_std(dataset_1)[1], compute_empirical_std(dataset_1))\n",
    "print \"2 | %f | %f \" % (compute_avg_std(dataset_2)[1], compute_empirical_std(dataset_2))\n",
    "print \"3 | %f | %f \" % (compute_avg_std(dataset_3)[1], compute_empirical_std(dataset_3))"
   ]
  },
  {
   "cell_type": "markdown",
   "metadata": {
    "collapsed": true
   },
   "source": [
    "The College Board’s verbal and mathematics Scholastic Aptitude Tests are scored on a scale of\n",
    "200 to 800. It seems reasonable to assume that the distribution of test scores are approximately\n",
    "normally distributed for both tests. Use the result from Exercise 1.17 to approximate the standard\n",
    "deviation for scores on the verbal test."
   ]
  },
  {
   "cell_type": "code",
   "execution_count": null,
   "metadata": {
    "collapsed": true
   },
   "outputs": [],
   "source": [
    "test_range=[200,800]\n",
    "print \"Approx STD: %f\" % (compute_empirical_std(t))"
   ]
  }
 ],
 "metadata": {
  "kernelspec": {
   "display_name": "Python 2",
   "language": "python",
   "name": "python2"
  },
  "language_info": {
   "codemirror_mode": {
    "name": "ipython",
    "version": 2
   },
   "file_extension": ".py",
   "mimetype": "text/x-python",
   "name": "python",
   "nbconvert_exporter": "python",
   "pygments_lexer": "ipython2",
   "version": "2.7.10"
  }
 },
 "nbformat": 4,
 "nbformat_minor": 0
}
