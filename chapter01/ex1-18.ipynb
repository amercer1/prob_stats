{
 "cells": [
  {
   "cell_type": "markdown",
   "metadata": {},
   "source": [
    "According to the Environmental Protection Agency, chloroform, which in its gaseous form\n",
    "is suspected to be a cancer-causing agent, is present in small quantities in all the country’s\n",
    "240,000 public water sources. If the mean and standard deviation of the amounts of chloroform\n",
    "present in water sources are 34 and 53 micrograms per liter (µg/L), respectively, explain why\n",
    "chloroform amounts do not have a normal distribution."
   ]
  },
  {
   "cell_type": "markdown",
   "metadata": {},
   "source": [
    "u = 34\n",
    "std = 53\n",
    "\n",
    "Let X be the concentration of chloroform at any random source. If we want to find the P(X<0),  \n",
    "if X has a normal distribution, this is the same as\n"
   ]
  }
 ],
 "metadata": {
  "kernelspec": {
   "display_name": "Python 2",
   "language": "python",
   "name": "python2"
  },
  "language_info": {
   "codemirror_mode": {
    "name": "ipython",
    "version": 2
   },
   "file_extension": ".py",
   "mimetype": "text/x-python",
   "name": "python",
   "nbconvert_exporter": "python",
   "pygments_lexer": "ipython2",
   "version": "2.7.10"
  }
 },
 "nbformat": 4,
 "nbformat_minor": 0
}
