{
 "cells": [
  {
   "cell_type": "code",
   "execution_count": 14,
   "metadata": {
    "collapsed": false
   },
   "outputs": [],
   "source": [
    "import numpy as np\n",
    "from matplotlib import pyplot as plt\n",
    "from __future__ import division\n",
    "%matplotlib inline"
   ]
  },
  {
   "cell_type": "markdown",
   "metadata": {},
   "source": [
    "##### Construct a relative frequency histogram for these data. (Choose the class boundaries without including the value 35.1 in the range of values.)"
   ]
  },
  {
   "cell_type": "code",
   "execution_count": 15,
   "metadata": {
    "collapsed": false
   },
   "outputs": [
    {
     "data": {
      "image/png": "[encoded data removed]",
      "text/plain": [
       "<matplotlib.figure.Figure at 0xaf10590c>"
      ]
     },
     "metadata": {},
     "output_type": "display_data"
    }
   ],
   "source": [
    "dataset_without_value = [8.9, 12.4, 8.6, 11.3, 9.2, 8.8, 6.2, 7.0,\n",
    "           7.1, 11.8, 10.7, 7.6, 9.1, 9.2, 8.2, 9.0, 8.7,\n",
    "           9.1, 10.9, 10.3, 9.6, 7.8, 11.5, 9.3, 7.9, 8.8,\n",
    "           8.8, 12.7, 8.4, 7.8, 5.7, 10.5, 10.5, 9.6, 8.9,\n",
    "           10.2, 10.3, 7.7, 10.6, 8.3, 8.8, 9.5, 8.8, 9.4]\n",
    "\n",
    "dataset_with = dataset_without_value + [35.1]\n",
    "\n",
    "plt.hist(dataset_without_value)\n",
    "plt.show()"
   ]
  },
  {
   "cell_type": "markdown",
   "metadata": {
    "collapsed": true
   },
   "source": [
    "##### The value 35.1 was recorded at Mt. Washington, New Hampshire. Does the geography of that city explain the magnitude of its average wind speed?"
   ]
  },
  {
   "cell_type": "markdown",
   "metadata": {},
   "source": [
    "Possibly yes. Lack of trees, plaines, weather will result in the city having a large average wind speed."
   ]
  },
  {
   "cell_type": "markdown",
   "metadata": {},
   "source": [
    "#####The average wind speed for Chicago is 10.3 miles per hour. What percentage of the cities have average wind speeds in excess of Chicago’s?"
   ]
  },
  {
   "cell_type": "code",
   "execution_count": 17,
   "metadata": {
    "collapsed": false
   },
   "outputs": [
    {
     "name": "stdout",
     "output_type": "stream",
     "text": [
      "0.227272727273\n"
     ]
    }
   ],
   "source": [
    "chicago_avg_wind_spd = 10.3\n",
    "larger_values = [x for x in dataset_without_value if x > chicago_avg_wind_spd]\n",
    "pct = len(larger_values) / len(dataset_without_value)\n",
    "print(pct)"
   ]
  },
  {
   "cell_type": "markdown",
   "metadata": {},
   "source": [
    "#####Do you think that Chicago is unusually windy?"
   ]
  },
  {
   "cell_type": "markdown",
   "metadata": {},
   "source": [
    "Assuming the dataset values represent a good selection of America's cities, it woud appear that Chicago is relatively more windy than other cites. Nearly 80% more windy that other cities."
   ]
  }
 ],
 "metadata": {
  "kernelspec": {
   "display_name": "Python 2",
   "language": "python",
   "name": "python2"
  },
  "language_info": {
   "codemirror_mode": {
    "name": "ipython",
    "version": 2
   },
   "file_extension": ".py",
   "mimetype": "text/x-python",
   "name": "python",
   "nbconvert_exporter": "python",
   "pygments_lexer": "ipython2",
   "version": "2.7.10"
  }
 },
 "nbformat": 4,
 "nbformat_minor": 0
}
