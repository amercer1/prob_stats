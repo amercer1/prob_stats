{
 "cells": [
  {
   "cell_type": "code",
   "execution_count": 2,
   "metadata": {
    "collapsed": true
   },
   "outputs": [],
   "source": [
    "from __future__ import division\n",
    "import math\n",
    "from matplotlib import pyplot as plt\n",
    "import numpy as np\n",
    "%matplotlib inline"
   ]
  },
  {
   "cell_type": "markdown",
   "metadata": {},
   "source": [
    "Weekly maintenance costs for a factory, recorded over a long period of time and adjusted\n",
    "for inflation, tend to have an approximately normal distribution with an average of $420 and a\n",
    "standard deviation of $30. If $450 is budgeted for next week, what is an approximate probability\n",
    "that this budgeted figure will be exceeded?"
   ]
  },
  {
   "cell_type": "markdown",
   "metadata": {},
   "source": [
    "P(X>450)?"
   ]
  },
  {
   "cell_type": "markdown",
   "metadata": {},
   "source": [
    "u = 420\n",
    "std = 30\n",
    "\n",
    "P(X > 450) = 1 - P(X < 450)\n",
    "           = 1 - (.68 + .16)\n",
    "           = 1 - (.84)\n",
    "           = .16     \n",
    "    \n",
    "    \n",
    "side math:\n",
    "\n",
    "100 - 68 = 32\n",
    "32 / 2 = 16"
   ]
  },
  {
   "cell_type": "code",
   "execution_count": 5,
   "metadata": {
    "collapsed": false
   },
   "outputs": [
    {
     "name": "stdout",
     "output_type": "stream",
     "text": [
      "1.0\n"
     ]
    }
   ],
   "source": [
    "# Alternate method \n",
    "#P(X>450) = P(Z >450-420/30) \n",
    "z_score = (450 - 420) / 30\n",
    "print z_score\n",
    "# P(Z >450-420/30) = P(Z > 1) = .1587"
   ]
  },
  {
   "cell_type": "markdown",
   "metadata": {},
   "source": [
    "The image below shows how to the problem using different values"
   ]
  },
  {
   "cell_type": "markdown",
   "metadata": {},
   "source": [
    "<img src='images/example_solution-1.20.png'>"
   ]
  },
  {
   "cell_type": "code",
   "execution_count": null,
   "metadata": {
    "collapsed": true
   },
   "outputs": [],
   "source": []
  }
 ],
 "metadata": {
  "kernelspec": {
   "display_name": "Python 2",
   "language": "python",
   "name": "python2"
  },
  "language_info": {
   "codemirror_mode": {
    "name": "ipython",
    "version": 2
   },
   "file_extension": ".py",
   "mimetype": "text/x-python",
   "name": "python",
   "nbconvert_exporter": "python",
   "pygments_lexer": "ipython2",
   "version": "2.7.10"
  }
 },
 "nbformat": 4,
 "nbformat_minor": 0
}
