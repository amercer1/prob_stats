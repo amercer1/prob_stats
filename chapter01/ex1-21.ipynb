{
 "cells": [
  {
   "cell_type": "code",
   "execution_count": 1,
   "metadata": {
    "collapsed": true
   },
   "outputs": [],
   "source": [
    "from __future__ import division\n",
    "import math\n",
    "from matplotlib import pyplot as plt\n",
    "import numpy as np\n",
    "%matplotlib inline"
   ]
  },
  {
   "cell_type": "markdown",
   "metadata": {},
   "source": [
    "The manufacturer of a new food additive for beef cattle claims that 80% of the animals fed a\n",
    "diet including this additive should have monthly weight gains in excess of 20 pounds. A large\n",
    "sample of measurements on weight gains for cattle fed this diet exhibits an approximately\n",
    "normal distribution with mean 22 pounds and standard deviation 2 pounds. Do you think the\n",
    "sample information contradicts the manufacturer’s claim? (Calculate the probability of a weight\n",
    "gain exceeding 20 pounds.)"
   ]
  },
  {
   "cell_type": "markdown",
   "metadata": {},
   "source": [
    "y_bar = 22\n",
    "std = 2\n",
    "P(X > 20) = 1 - P(X < 20)\n",
    "          = 1 - .16\n",
    "          = .84\n",
    "          \n",
    "Alternative method\n",
    "This still needs to be checked back on later. TODO\n",
    "P(X>20) = P(Z >20-22/2) \n",
    "        = P(Z  -1) \n",
    "        = "
   ]
  }
 ],
 "metadata": {
  "kernelspec": {
   "display_name": "Python 2",
   "language": "python",
   "name": "python2"
  },
  "language_info": {
   "codemirror_mode": {
    "name": "ipython",
    "version": 2
   },
   "file_extension": ".py",
   "mimetype": "text/x-python",
   "name": "python",
   "nbconvert_exporter": "python",
   "pygments_lexer": "ipython2",
   "version": "2.7.10"
  }
 },
 "nbformat": 4,
 "nbformat_minor": 0
}
