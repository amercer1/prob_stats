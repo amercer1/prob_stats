{
 "cells": [
  {
   "cell_type": "markdown",
   "metadata": {},
   "source": [
    "Prove that the sum of the deviations of a set of measurements about their mean is equal to zero;\n",
    "that is,\n",
    "\n",
    "\n",
    "$$\\sum_{i=1}^n(yi − y) = 0 $$"
   ]
  },
  {
   "cell_type": "markdown",
   "metadata": {},
   "source": [
    "$$\\sum_{i=1}^n(yi − y) = 0 $$\n",
    " \n",
    "$$\\sum_{i=1}^n(yi) − \\sum_{i=1}^n y = 0 $$\n",
    "$$\\sum_{i=1}^n(yi) − \\sum_{i=1}^n y = 0 $$\n",
    "$$\\sum_{i=1}^n(yi) − n * y = 0 $$\n",
    "$$\\sum_{i=1}^n(yi) − n(y1+...+yn)/n = 0 $$\n",
    "$$\\sum_{i=1}^n(yi) − (y1+...+yn) = 0 $$\n",
    "$$\\sum_{i=1}^n(yi) - $$\\sum_{i=1}^n(yi) = 0 $$\n",
    "$$ 0 = 0 $$"
   ]
  },
  {
   "cell_type": "code",
   "execution_count": null,
   "metadata": {
    "collapsed": true
   },
   "outputs": [],
   "source": []
  }
 ],
 "metadata": {
  "kernelspec": {
   "display_name": "Python 2",
   "language": "python",
   "name": "python2"
  },
  "language_info": {
   "codemirror_mode": {
    "name": "ipython",
    "version": 2
   },
   "file_extension": ".py",
   "mimetype": "text/x-python",
   "name": "python",
   "nbconvert_exporter": "python",
   "pygments_lexer": "ipython2",
   "version": "2.7.10"
  }
 },
 "nbformat": 4,
 "nbformat_minor": 0
}
