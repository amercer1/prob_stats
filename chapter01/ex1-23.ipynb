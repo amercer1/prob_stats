{
 "cells": [
  {
   "cell_type": "code",
   "execution_count": 2,
   "metadata": {
    "collapsed": true
   },
   "outputs": [],
   "source": [
    "from __future__ import division\n",
    "import math\n",
    "from matplotlib import pyplot as plt\n",
    "import numpy as np\n",
    "%matplotlib inline"
   ]
  },
  {
   "cell_type": "markdown",
   "metadata": {},
   "source": [
    "The mean duration of television commercials is 75 seconds with standard deviation 20 seconds.\n",
    "Assume that the durations are approximately normally distributed to answer the following."
   ]
  },
  {
   "cell_type": "markdown",
   "metadata": {},
   "source": [
    "A) What percentage of commercials last longer than 95 seconds?"
   ]
  },
  {
   "cell_type": "markdown",
   "metadata": {},
   "source": [
    "u = 75\n",
    "std = 20\n",
    "\n",
    "Using the empirical rule\n",
    "\n",
    "P(X > 95)?\n",
    "P(X > 95) = 1 - P(X < 95)\n",
    "          = 1 - (.68 + .32/2)\n",
    "          = 1 - (.68 + .16)\n",
    "          = 1 - .84\n",
    "          = .16"
   ]
  },
  {
   "cell_type": "markdown",
   "metadata": {},
   "source": [
    "B) What percentage of the commercials last between 35 and 115 seconds?"
   ]
  },
  {
   "cell_type": "code",
   "execution_count": 8,
   "metadata": {
    "collapsed": false
   },
   "outputs": [
    {
     "name": "stdout",
     "output_type": "stream",
     "text": [
      "35 115\n"
     ]
    }
   ],
   "source": [
    "u = 75\n",
    "std = 20\n",
    "\n",
    "one_std_from_mean_plus = u + 1*std\n",
    "two_std_from_mean_plus = u + 2*std\n",
    "three_std_from_mean_plus = u + 3*std\n",
    "\n",
    "one_std_from_mean_sub = u - 1*std\n",
    "two_std_from_mean_sub = u - 2*std\n",
    "three_std_from_mean_sub = u - 3*std\n",
    "\n",
    "print two_std_from_mean_sub, two_std_from_mean_plus"
   ]
  },
  {
   "cell_type": "markdown",
   "metadata": {},
   "source": [
    "Using Empirical Rule\n",
    "\n",
    ".95"
   ]
  },
  {
   "cell_type": "markdown",
   "metadata": {},
   "source": [
    "C) Would you expect commercial to last longer than 2 minutes? Why or why not?"
   ]
  },
  {
   "cell_type": "markdown",
   "metadata": {},
   "source": [
    "Using empirical rule, the answer is no. There is a less than .01 percent chance to see a commercial longer than two minutes as it is outside three stds from the mean."
   ]
  },
  {
   "cell_type": "code",
   "execution_count": null,
   "metadata": {
    "collapsed": true
   },
   "outputs": [],
   "source": []
  }
 ],
 "metadata": {
  "kernelspec": {
   "display_name": "Python 2",
   "language": "python",
   "name": "python2"
  },
  "language_info": {
   "codemirror_mode": {
    "name": "ipython",
    "version": 2
   },
   "file_extension": ".py",
   "mimetype": "text/x-python",
   "name": "python",
   "nbconvert_exporter": "python",
   "pygments_lexer": "ipython2",
   "version": "2.7.10"
  }
 },
 "nbformat": 4,
 "nbformat_minor": 0
}
