{
 "cells": [
  {
   "cell_type": "code",
   "execution_count": 1,
   "metadata": {
    "collapsed": true
   },
   "outputs": [],
   "source": [
    "from __future__ import division\n",
    "import math\n",
    "from matplotlib import pyplot as plt\n",
    "import numpy as np\n",
    "%matplotlib inline"
   ]
  },
  {
   "cell_type": "markdown",
   "metadata": {},
   "source": [
    "Aqua running has been suggested as a method of cardiovascular conditioning for injured\n",
    "athletes and others who desire a low-impact aerobics program. In a study to investigate the\n",
    "relationship between exercise cadence and heart rate,1 the heart rates of 20 healthy volunteers\n",
    "were measured at a cadence of 48 cycles per minute (a cycle consisted of two steps). The data\n",
    "are as follows:\n",
    "87 109 79 80 96 95 90 92 96 98\n",
    "101 91 78 112 94 98 94 107 81 96"
   ]
  },
  {
   "cell_type": "code",
   "execution_count": 2,
   "metadata": {
    "collapsed": true
   },
   "outputs": [],
   "source": [
    "dataset = [87, 109, 79, 80, 96, 95, 90, 92, 96, 98, 101, 91, 78, 112, 94, 98, 94, 107, 81, 96]"
   ]
  },
  {
   "cell_type": "markdown",
   "metadata": {},
   "source": [
    "A) Use the range of the measurements to obtain an estimate of the standard deviation."
   ]
  },
  {
   "cell_type": "code",
   "execution_count": 6,
   "metadata": {
    "collapsed": false
   },
   "outputs": [
    {
     "name": "stdout",
     "output_type": "stream",
     "text": [
      "8.5\n"
     ]
    }
   ],
   "source": [
    "min_val = min(dataset)\n",
    "max_val = max(dataset)\n",
    "\n",
    "#Using the empirical rule\n",
    "estimated_std = (max_val - min_val) / 4\n",
    "print estimated_std"
   ]
  },
  {
   "cell_type": "markdown",
   "metadata": {},
   "source": [
    "B) Construct a frequency histogram for the data. Use the histogram to obtain a visual approximation\n",
    "to y and s."
   ]
  },
  {
   "cell_type": "code",
   "execution_count": 7,
   "metadata": {
    "collapsed": false
   },
   "outputs": [
    {
     "data": {
      "image/png": "[encoded data removed]",
      "text/plain": [
       "<matplotlib.figure.Figure at 0xaf3fc2cc>"
      ]
     },
     "metadata": {},
     "output_type": "display_data"
    }
   ],
   "source": [
    "plt.hist(dataset)\n",
    "plt.show()"
   ]
  },
  {
   "cell_type": "markdown",
   "metadata": {},
   "source": [
    "Personal guess that the mean is around 95 and std is 10. I have no idea how one eyeballs std."
   ]
  },
  {
   "cell_type": "code",
   "execution_count": 9,
   "metadata": {
    "collapsed": false
   },
   "outputs": [
    {
     "name": "stdout",
     "output_type": "stream",
     "text": [
      "93.7 9.66902270139\n"
     ]
    }
   ],
   "source": [
    "y_bar = reduce(lambda x, y: x + y, dataset) / len(dataset)\n",
    "\n",
    "sum_squared_list_points = reduce(lambda x, y: x + math.pow(y - y_bar ,2), dataset)\n",
    "n_1 = 1 / (len(dataset) - 1)\n",
    "variance = n_1 * sum_squared_list_points\n",
    "std = math.sqrt(variance)\n",
    "\n",
    "print y_bar, std"
   ]
  },
  {
   "cell_type": "markdown",
   "metadata": {},
   "source": [
    "C) Construct the intervals y ± ks, k = 1, 2, and 3, and count the number of measurements\n",
    "falling in each interval. Compare the fractions falling in the intervals with the fractions that\n",
    "you would expect according to the empirical rule."
   ]
  },
  {
   "cell_type": "code",
   "execution_count": 10,
   "metadata": {
    "collapsed": false
   },
   "outputs": [
    {
     "name": "stdout",
     "output_type": "stream",
     "text": [
      "0.65\n",
      "1.0\n",
      "1.0\n"
     ]
    }
   ],
   "source": [
    "def count_of_values_contained_in_interval(low,high,dataset):\n",
    "    count = 0\n",
    "    for x in dataset:\n",
    "        if x > low and x < high:\n",
    "            count = count + 1\n",
    "    return count\n",
    "\n",
    "#When k=1 \n",
    "k_minus_1 = y_bar - std*1\n",
    "k_plus_1  = y_bar + std*1\n",
    "\n",
    "in_interval_1 = count_of_values_contained_in_interval(k_minus_1,k_plus_1,dataset)\n",
    "print in_interval_1 / len(dataset)\n",
    "\n",
    "#When k=2\n",
    "k_minus_2 = y_bar - std*2\n",
    "k_plus_2  = y_bar + std*2\n",
    "\n",
    "in_interval_2 = count_of_values_contained_in_interval(k_minus_2,k_plus_2,dataset)\n",
    "print in_interval_2 / len(dataset)\n",
    "\n",
    "#When k=3\n",
    "k_minus_3 = y_bar - std*3\n",
    "k_plus_3  = y_bar + std*3\n",
    "\n",
    "in_interval_3 = count_of_values_contained_in_interval(k_minus_3,k_plus_3,dataset)\n",
    "print in_interval_3 / len(dataset)"
   ]
  },
  {
   "cell_type": "code",
   "execution_count": null,
   "metadata": {
    "collapsed": true
   },
   "outputs": [],
   "source": []
  }
 ],
 "metadata": {
  "kernelspec": {
   "display_name": "Python 2",
   "language": "python",
   "name": "python2"
  },
  "language_info": {
   "codemirror_mode": {
    "name": "ipython",
    "version": 2
   },
   "file_extension": ".py",
   "mimetype": "text/x-python",
   "name": "python",
   "nbconvert_exporter": "python",
   "pygments_lexer": "ipython2",
   "version": "2.7.10"
  }
 },
 "nbformat": 4,
 "nbformat_minor": 0
}
