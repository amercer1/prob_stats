{
 "cells": [
  {
   "cell_type": "code",
   "execution_count": 2,
   "metadata": {
    "collapsed": true
   },
   "outputs": [],
   "source": [
    "from __future__ import division\n",
    "import math\n",
    "from matplotlib import pyplot as plt\n",
    "import numpy as np\n",
    "%matplotlib inline"
   ]
  },
  {
   "cell_type": "markdown",
   "metadata": {},
   "source": [
    "The following data give the lengths of time to failure for n = 88 radio transmitter-receivers:"
   ]
  },
  {
   "cell_type": "code",
   "execution_count": 3,
   "metadata": {
    "collapsed": true
   },
   "outputs": [],
   "source": [
    "dataset = [16, 224, 16, 80, 96, 536, 400, 80,\n",
    "392, 576, 128, 56, 656, 224, 40, 32,\n",
    "358, 384, 256, 246, 328, 464, 448, 716,\n",
    "304, 16, 72, 8, 80, 72, 56, 608,\n",
    "108, 194, 136, 224, 80, 16, 424, 264,\n",
    "156, 216, 168, 184, 552, 72, 184, 240,\n",
    "438, 120, 308, 32, 272, 152, 328, 480,\n",
    "60, 208, 340, 104, 72, 168, 40, 152,\n",
    "360, 232, 40, 112, 112, 288, 168, 352,\n",
    "56, 72, 64, 40, 184, 264, 96, 224,\n",
    "168, 168, 114, 280, 152, 208, 160, 176]"
   ]
  },
  {
   "cell_type": "markdown",
   "metadata": {},
   "source": [
    "A) Use the range to approximate s for the n = 88 lengths of time to failure."
   ]
  },
  {
   "cell_type": "code",
   "execution_count": 5,
   "metadata": {
    "collapsed": false
   },
   "outputs": [
    {
     "name": "stdout",
     "output_type": "stream",
     "text": [
      "177.0\n"
     ]
    }
   ],
   "source": [
    "std = (max(dataset) - min(dataset)) /4\n",
    "print std"
   ]
  },
  {
   "cell_type": "markdown",
   "metadata": {},
   "source": [
    "B) Construct a frequency histogram for the data. [Notice the tendency of the distribution to\n",
    "tail outward (skew) to the right.]"
   ]
  },
  {
   "cell_type": "code",
   "execution_count": 7,
   "metadata": {
    "collapsed": false
   },
   "outputs": [
    {
     "data": {
      "image/png": "[encoded data removed]",
      "text/plain": [
       "<matplotlib.figure.Figure at 0xaf32890c>"
      ]
     },
     "metadata": {},
     "output_type": "display_data"
    }
   ],
   "source": [
    "plt.hist(dataset)\n",
    "plt.show()"
   ]
  },
  {
   "cell_type": "markdown",
   "metadata": {},
   "source": [
    "C) Use a calculator (or computer) to calculate y and s. (Hand calculation is much too tedious\n",
    "for this exercise.)"
   ]
  },
  {
   "cell_type": "code",
   "execution_count": 14,
   "metadata": {
    "collapsed": false
   },
   "outputs": [
    {
     "name": "stdout",
     "output_type": "stream",
     "text": [
      "210.795454545\n",
      "210.795454545 160.822992905\n"
     ]
    }
   ],
   "source": [
    "y_bar = reduce(lambda x,y: x + y, dataset) / len(dataset)\n",
    "print y_bar\n",
    "\n",
    "sum_of_squared_differences_from_mean = reduce(lambda x,y: x + (math.pow((y - y_bar),2)), dataset)\n",
    "variance = sum_of_squared_differences_from_mean / (len(dataset) - 1)\n",
    "std = math.sqrt(variance)\n",
    "print y_bar, std"
   ]
  },
  {
   "cell_type": "markdown",
   "metadata": {},
   "source": [
    "D) Calculate the intervals y ± ks, k = 1, 2, and 3, and count the number of measurements\n",
    "falling in each interval. Compare your results with the empirical rule results. Note that the\n",
    "empirical rule provides a rather good description of these data, even though the distribution\n",
    "is highly skewed."
   ]
  },
  {
   "cell_type": "code",
   "execution_count": 24,
   "metadata": {
    "collapsed": false
   },
   "outputs": [
    {
     "name": "stdout",
     "output_type": "stream",
     "text": [
      "[48.630000000000024, 372.97] 12 0.136363636364\n",
      "[-113.53999999999996, 535.14] 43 0.488636363636\n",
      "[-275.71, 697.31] 64 0.727272727273\n"
     ]
    }
   ],
   "source": [
    "y_bar = 210.8\n",
    "std = 162.17\n",
    "for k in range(1,4):\n",
    "    count = reduce(lambda x,y: x + 1 if (y_bar - k * std) <= y <= (y_bar + k * std) else 0,dataset)\n",
    "    print [(y_bar - k * std), (y_bar + k * std)], count, count/len(dataset)"
   ]
  },
  {
   "cell_type": "code",
   "execution_count": null,
   "metadata": {
    "collapsed": true
   },
   "outputs": [],
   "source": []
  }
 ],
 "metadata": {
  "kernelspec": {
   "display_name": "Python 2",
   "language": "python",
   "name": "python2"
  },
  "language_info": {
   "codemirror_mode": {
    "name": "ipython",
    "version": 2
   },
   "file_extension": ".py",
   "mimetype": "text/x-python",
   "name": "python",
   "nbconvert_exporter": "python",
   "pygments_lexer": "ipython2",
   "version": "2.7.10"
  }
 },
 "nbformat": 4,
 "nbformat_minor": 0
}
