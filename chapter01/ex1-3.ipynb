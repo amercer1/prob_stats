{
 "cells": [
  {
   "cell_type": "code",
   "execution_count": 14,
   "metadata": {
    "collapsed": true
   },
   "outputs": [],
   "source": [
    "from __future__ import division\n",
    "import math\n",
    "from matplotlib import pyplot as plt\n",
    "import numpy as np\n",
    "%matplotlib inline"
   ]
  },
  {
   "cell_type": "markdown",
   "metadata": {},
   "source": [
    "Of great importance to residents of central Florida is the amount of radioactive material present\n",
    "in the soil of reclaimed phosphate mining areas. Measurements of the amount of 238U in 25 soil\n",
    "samples were as follows (measurements in picocuries per gram):\n",
    ".74 6.47 1.90 2.69 .75\n",
    ".32 9.99 1.77 2.41 1.96\n",
    "1.66 .70 2.42 .54 3.36\n",
    "3.59 .37 1.09 8.32 4.06\n",
    "4.55 .76 2.03 5.70 12.48"
   ]
  },
  {
   "cell_type": "markdown",
   "metadata": {},
   "source": [
    "Construct a relative frequency histogram for these data."
   ]
  },
  {
   "cell_type": "code",
   "execution_count": 15,
   "metadata": {
    "collapsed": false
   },
   "outputs": [
    {
     "data": {
      "image/png": "[encoded data removed]",
      "text/plain": [
       "<matplotlib.figure.Figure at 0xaf0e24ac>"
      ]
     },
     "metadata": {},
     "output_type": "display_data"
    }
   ],
   "source": [
    "dataset = [.74, 6.47, 1.90, 2.69, .75,\n",
    ".32, 9.99, 1.77, 2.41, 1.96,\n",
    "1.66, .70, 2.42, .54, 3.36,\n",
    "3.59, .37, 1.09, 8.32, 4.06,\n",
    "4.55, .76, 2.03, 5.70, 12.48]\n",
    "\n",
    "bins = list(np.arange(0,13,0.5))\n",
    "plt.hist(dataset, bins=bins)\n",
    "plt.show()"
   ]
  },
  {
   "cell_type": "code",
   "execution_count": 17,
   "metadata": {
    "collapsed": false
   },
   "outputs": [
    {
     "data": {
      "image/png": "[encoded data removed]",
      "text/plain": [
       "<matplotlib.figure.Figure at 0xaf0b0acc>"
      ]
     },
     "metadata": {},
     "output_type": "display_data"
    }
   ],
   "source": [
    "dataset_log_n = [math.log(x) for x in dataset]\n",
    "plt.hist(dataset_log_n)\n",
    "plt.show()"
   ]
  },
  {
   "cell_type": "code",
   "execution_count": null,
   "metadata": {
    "collapsed": true
   },
   "outputs": [],
   "source": []
  }
 ],
 "metadata": {
  "kernelspec": {
   "display_name": "Python 2",
   "language": "python",
   "name": "python2"
  },
  "language_info": {
   "codemirror_mode": {
    "name": "ipython",
    "version": 2
   },
   "file_extension": ".py",
   "mimetype": "text/x-python",
   "name": "python",
   "nbconvert_exporter": "python",
   "pygments_lexer": "ipython2",
   "version": "2.7.10"
  }
 },
 "nbformat": 4,
 "nbformat_minor": 0
}
