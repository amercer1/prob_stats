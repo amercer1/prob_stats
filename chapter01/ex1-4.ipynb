{
 "cells": [
  {
   "cell_type": "code",
   "execution_count": 1,
   "metadata": {
    "collapsed": true
   },
   "outputs": [],
   "source": [
    "from __future__ import division\n",
    "import math\n",
    "from matplotlib import pyplot as plt\n",
    "import numpy as np\n",
    "%matplotlib inline"
   ]
  },
  {
   "cell_type": "markdown",
   "metadata": {},
   "source": [
    "The top 40 stocks on the over-the-counter (OTC) market, ranked by percentage of outstanding\n",
    "shares traded on one day last year are as follows:\n",
    "\n",
    "\\begin{array}\n",
    "11.88 & 6.27 & 5.49 & 4.81 & 4.40 & 3.78 & 3.44 & 3.11 & 2.88 & 2.68 \\\\ \n",
    "7.99 & 6.07 & 5.26 & 4.79 & 4.05 & 3.69 & 3.36 & 3.03 & 2.74 & 2.63 \\\\ \n",
    "7.15 & 5.98 & 5.07 & 4.55 & 3.94 & 3.62 & 3.26 & 2.99 & 2.74 & 2.62 \\\\\n",
    "7.13 & 5.91 & 4.94 & 4.43 & 3.93 & 3.48 & 3.20 & 2.89 & 2.69 & 2.61\n",
    "\\end{array}"
   ]
  },
  {
   "cell_type": "markdown",
   "metadata": {},
   "source": [
    "A) Construct a relative frequency histogram to describe these data."
   ]
  },
  {
   "cell_type": "code",
   "execution_count": 2,
   "metadata": {
    "collapsed": false
   },
   "outputs": [
    {
     "data": {
      "image/png": "[encoded data removed]",
      "text/plain": [
       "<matplotlib.figure.Figure at 0xaf4271cc>"
      ]
     },
     "metadata": {},
     "output_type": "display_data"
    }
   ],
   "source": [
    "dataset = [11.88, 6.27, 5.49, 4.81, 4.40, 3.78, 3.44, 3.11, 2.88, 2.68, \n",
    "7.99, 6.07, 5.26, 4.79, 4.05, 3.69, 3.36, 3.03, 2.74, 2.63, \n",
    "7.15, 5.98, 5.07, 4.55, 3.94, 3.62, 3.26, 2.99, 2.74, 2.62,\n",
    "7.13, 5.91, 4.94, 4.43, 3.93, 3.48, 3.20, 2.89, 2.69, 2.61]\n",
    "\n",
    "plt.hist(dataset)\n",
    "plt.show()"
   ]
  },
  {
   "cell_type": "markdown",
   "metadata": {},
   "source": [
    "B) What proportion of these top 40 stocks traded more than 4% of the outstanding shares?"
   ]
  },
  {
   "cell_type": "code",
   "execution_count": 3,
   "metadata": {
    "collapsed": false
   },
   "outputs": [
    {
     "name": "stdout",
     "output_type": "stream",
     "text": [
      "0.45\n"
     ]
    }
   ],
   "source": [
    "proportion = len([x for x in dataset if x > 4]) / len(dataset)\n",
    "print proportion"
   ]
  },
  {
   "cell_type": "markdown",
   "metadata": {},
   "source": [
    "C) If one of the stocks is selected at random from the 40 for which the preceding data were\n",
    "taken, what is the probability that it will have traded fewer than 5% of its outstanding shares?"
   ]
  },
  {
   "cell_type": "code",
   "execution_count": 9,
   "metadata": {
    "collapsed": false
   },
   "outputs": [
    {
     "name": "stdout",
     "output_type": "stream",
     "text": [
      "72.5%\n"
     ]
    }
   ],
   "source": [
    "proportion = len([x for x in dataset if x < 5]) / len(dataset)\n",
    "pct = (proportion * 100)\n",
    "print '%.1f%%' % pct"
   ]
  }
 ],
 "metadata": {
  "kernelspec": {
   "display_name": "Python 2",
   "language": "python",
   "name": "python2"
  },
  "language_info": {
   "codemirror_mode": {
    "name": "ipython",
    "version": 2
   },
   "file_extension": ".py",
   "mimetype": "text/x-python",
   "name": "python",
   "nbconvert_exporter": "python",
   "pygments_lexer": "ipython2",
   "version": "2.7.10"
  }
 },
 "nbformat": 4,
 "nbformat_minor": 0
}
