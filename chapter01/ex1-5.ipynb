{
 "cells": [
  {
   "cell_type": "code",
   "execution_count": 1,
   "metadata": {
    "collapsed": true
   },
   "outputs": [],
   "source": [
    "from __future__ import division\n",
    "import math\n",
    "from matplotlib import pyplot as plt\n",
    "import numpy as np\n",
    "%matplotlib inline"
   ]
  },
  {
   "cell_type": "markdown",
   "metadata": {},
   "source": [
    "Given here is the relative frequency histogram associated with grade point averages (GPAs) of\n",
    "a sample of 30 students:"
   ]
  },
  {
   "cell_type": "markdown",
   "metadata": {},
   "source": [
    "<img src='images/histogram-1.5.png'>"
   ]
  },
  {
   "cell_type": "markdown",
   "metadata": {},
   "source": [
    "A) Which of the GPA categories identified on the horizontal axis are associated with the largest\n",
    "proportion of students?"
   ]
  },
  {
   "cell_type": "markdown",
   "metadata": {},
   "source": [
    "The values from 2.45 to 2.65 and 2.65 to 2.85 are associated with the largest proportion of students."
   ]
  },
  {
   "cell_type": "markdown",
   "metadata": {},
   "source": [
    "B) What proportion of students had GPAs in each of the categories that you identified?"
   ]
  },
  {
   "cell_type": "markdown",
   "metadata": {},
   "source": [
    "`7/30 + 7/30 = 14/30`"
   ]
  },
  {
   "cell_type": "markdown",
   "metadata": {},
   "source": [
    "C) What proportion of the students had GPAs less than 2.65?"
   ]
  },
  {
   "cell_type": "markdown",
   "metadata": {},
   "source": [
    "`3/30 + 3/30 + 3/30 + 7/30 = 16/30`"
   ]
  }
 ],
 "metadata": {
  "kernelspec": {
   "display_name": "Python 2",
   "language": "python",
   "name": "python2"
  },
  "language_info": {
   "codemirror_mode": {
    "name": "ipython",
    "version": 2
   },
   "file_extension": ".py",
   "mimetype": "text/x-python",
   "name": "python",
   "nbconvert_exporter": "python",
   "pygments_lexer": "ipython2",
   "version": "2.7.10"
  }
 },
 "nbformat": 4,
 "nbformat_minor": 0
}
