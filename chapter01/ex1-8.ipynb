{
 "cells": [
  {
   "cell_type": "code",
   "execution_count": 1,
   "metadata": {
    "collapsed": true
   },
   "outputs": [],
   "source": [
    "from __future__ import division\n",
    "import math\n",
    "from matplotlib import pyplot as plt\n",
    "import numpy as np\n",
    "%matplotlib inline"
   ]
  },
  {
   "cell_type": "markdown",
   "metadata": {},
   "source": [
    "An article in Archaeometry presented an analysis of 26 samples of Romano–British pottery,\n",
    "found at four different kiln sites in the United Kingdom. The percentage of aluminum oxide in\n",
    "each of the 26 samples is given below:"
   ]
  },
  {
   "cell_type": "markdown",
   "metadata": {},
   "source": [
    "<img src='images/table-1.8.png'>"
   ]
  },
  {
   "cell_type": "markdown",
   "metadata": {},
   "source": [
    "A) Construct a relative frequency histogram to describe the aluminum oxide content of all\n",
    "26 pottery samples."
   ]
  },
  {
   "cell_type": "code",
   "execution_count": 2,
   "metadata": {
    "collapsed": false
   },
   "outputs": [
    {
     "data": {
      "text/plain": [
       "<function matplotlib.pyplot.show>"
      ]
     },
     "execution_count": 2,
     "metadata": {},
     "output_type": "execute_result"
    },
    {
     "data": {
      "image/png": "[encoded data removed]",
      "text/plain": [
       "<matplotlib.figure.Figure at 0xaf3c910c>"
      ]
     },
     "metadata": {},
     "output_type": "display_data"
    }
   ],
   "source": [
    "VIM_NOTES = \":%s/\\([0-9][0-9].[0-9]\\)/&,/g\"\n",
    "\n",
    "dataset = [14.4, 11.6, 11.8, 18.3, 17.7,\n",
    "13.8, 11.1, 11.6, 15.8, 18.3,\n",
    "14.6, 13.4, 18.0, 16.7, 11.5,\n",
    "12.4, 18.0, 14.8, 13.8, 13.1,\n",
    "20.8, 19.1, 10.9, 12.7, 10.1, 12.5]\n",
    "\n",
    "plt.hist(dataset)\n",
    "plt.show"
   ]
  },
  {
   "cell_type": "markdown",
   "metadata": {},
   "source": [
    "B) What unusual feature do you see in this histogram? Looking at the data, can you think of\n",
    "an explanation for this unusual feature?"
   ]
  },
  {
   "cell_type": "markdown",
   "metadata": {},
   "source": [
    "There is a large proportion of aluminum oxicde context in the 18 values outside the "
   ]
  }
 ],
 "metadata": {
  "kernelspec": {
   "display_name": "Python 2",
   "language": "python",
   "name": "python2"
  },
  "language_info": {
   "codemirror_mode": {
    "name": "ipython",
    "version": 2
   },
   "file_extension": ".py",
   "mimetype": "text/x-python",
   "name": "python",
   "nbconvert_exporter": "python",
   "pygments_lexer": "ipython2",
   "version": "2.7.10"
  }
 },
 "nbformat": 4,
 "nbformat_minor": 0
}
