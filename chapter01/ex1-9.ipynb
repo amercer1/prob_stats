{
 "cells": [
  {
   "cell_type": "markdown",
   "metadata": {},
   "source": [
    "Resting breathing rates for college-age students are approximately normally distributed with\n",
    "mean 12 and standard deviation 2.3 breaths per minute. What fraction of all college-age students\n",
    "have breathing rates in the following intervals?"
   ]
  },
  {
   "cell_type": "code",
   "execution_count": 1,
   "metadata": {
    "collapsed": false
   },
   "outputs": [
    {
     "name": "stdout",
     "output_type": "stream",
     "text": [
      "[9.7, 14.3]\n",
      "[7.4, 16.6]\n",
      "[5.1000000000000005, 18.9]\n"
     ]
    }
   ],
   "source": [
    "# A few values that need to be calculated first before answering the next series of questions\n",
    "\n",
    "mean = 12\n",
    "std = 2.3\n",
    "\n",
    "interval_1 = [mean - std, mean + std]\n",
    "print interval_1 \n",
    "\n",
    "interval_2 = [mean - 2 * std, mean + 2 * std]\n",
    "print interval_2\n",
    "\n",
    "interval_3 = [mean - 3 * std, mean + 3 * std]\n",
    "print interval_3"
   ]
  },
  {
   "cell_type": "markdown",
   "metadata": {},
   "source": [
    "A) 9.7 to 14.3 breaths per minute"
   ]
  },
  {
   "cell_type": "markdown",
   "metadata": {},
   "source": [
    ".68"
   ]
  },
  {
   "cell_type": "markdown",
   "metadata": {},
   "source": [
    "B) 7.4 to 16.6 breaths per minute"
   ]
  },
  {
   "cell_type": "markdown",
   "metadata": {},
   "source": [
    ".95"
   ]
  },
  {
   "cell_type": "markdown",
   "metadata": {},
   "source": [
    "C) 9.7 to 16.6 breaths per minute"
   ]
  },
  {
   "cell_type": "code",
   "execution_count": 2,
   "metadata": {
    "collapsed": false
   },
   "outputs": [
    {
     "name": "stdout",
     "output_type": "stream",
     "text": [
      "0.815\n"
     ]
    }
   ],
   "source": [
    "interval_difference_divided_in_half = (.95 - .68) / 2\n",
    "internavl_containing_extra_interval = .68 + interval_difference_divided_in_half \n",
    "print internavl_containing_extra_interval"
   ]
  },
  {
   "cell_type": "markdown",
   "metadata": {},
   "source": [
    "D) Less than 5.1 or more than 18.9 breaths per minute"
   ]
  },
  {
   "cell_type": "markdown",
   "metadata": {},
   "source": [
    ".01"
   ]
  },
  {
   "cell_type": "code",
   "execution_count": null,
   "metadata": {
    "collapsed": true
   },
   "outputs": [],
   "source": []
  }
 ],
 "metadata": {
  "kernelspec": {
   "display_name": "Python 2",
   "language": "python",
   "name": "python2"
  },
  "language_info": {
   "codemirror_mode": {
    "name": "ipython",
    "version": 2
   },
   "file_extension": ".py",
   "mimetype": "text/x-python",
   "name": "python",
   "nbconvert_exporter": "python",
   "pygments_lexer": "ipython2",
   "version": "2.7.10"
  }
 },
 "nbformat": 4,
 "nbformat_minor": 0
}
